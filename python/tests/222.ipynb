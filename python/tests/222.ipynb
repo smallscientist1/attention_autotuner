{
 "cells": [
  {
   "cell_type": "code",
   "execution_count": 18,
   "metadata": {},
   "outputs": [],
   "source": [
    "filename = \"attn_256_256\" # \"attn_256_128\"\n",
    "dim_qk = 256"
   ]
  },
  {
   "cell_type": "code",
   "execution_count": 19,
   "metadata": {},
   "outputs": [
    {
     "name": "stdout",
     "output_type": "stream",
     "text": [
      "Index(['Unnamed: 0', 'fuse_type', 'tile1', 'tile2', 'warps', 'warps_layout1',\n",
      "       'warps_layout2', 'unrollLastIter', 'ncu_cycles', 'peak_time',\n",
      "       'predict time(ms)', 'pred/peak'],\n",
      "      dtype='object')\n",
      "(32, 32, 256)\n"
     ]
    }
   ],
   "source": [
    "import pandas as pd\n",
    "import ast\n",
    "df = pd.read_csv(filename+\"_pred.csv\")\n",
    "print(df.columns)\n",
    "df['tile1'] = df['tile1'].apply(ast.literal_eval)\n",
    "df['tile2'] = df['tile2'].apply(ast.literal_eval)\n",
    "print(df['tile1'][0])\n",
    "df_filtered = df[ (df['tile1'].apply(lambda x: x[2] == dim_qk) ) & (df['tile2'].apply(lambda x: x[2])==df['tile1'].apply(lambda x:x[1]) ) ]\n",
    "df_filtered.to_csv(filename+\"_pred_filtered.csv\", index=False)"
   ]
  }
 ],
 "metadata": {
  "kernelspec": {
   "display_name": "mamba",
   "language": "python",
   "name": "python3"
  },
  "language_info": {
   "codemirror_mode": {
    "name": "ipython",
    "version": 3
   },
   "file_extension": ".py",
   "mimetype": "text/x-python",
   "name": "python",
   "nbconvert_exporter": "python",
   "pygments_lexer": "ipython3",
   "version": "3.11.7"
  }
 },
 "nbformat": 4,
 "nbformat_minor": 2
}
