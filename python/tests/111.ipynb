{
 "cells": [
  {
   "cell_type": "code",
   "execution_count": 14,
   "metadata": {},
   "outputs": [],
   "source": [
    "filename = \"attn_256_256\" # \"attn_256_128\""
   ]
  },
  {
   "cell_type": "code",
   "execution_count": 15,
   "metadata": {},
   "outputs": [
    {
     "data": {
      "text/plain": [
       "32"
      ]
     },
     "execution_count": 15,
     "metadata": {},
     "output_type": "execute_result"
    }
   ],
   "source": [
    "import pickle\n",
    "with open(filename+'.pkl',\"rb\") as f:\n",
    "    configs,cost_configs, cycles_list = pickle.load(f)\n",
    "\n",
    "configs[0].Br"
   ]
  },
  {
   "cell_type": "code",
   "execution_count": null,
   "metadata": {},
   "outputs": [],
   "source": [
    "from cost_model.arch.a100 import A100\n",
    "from cost_model.arch.RTX4090 import RTX4090\n",
    "import torch\n",
    "\n",
    "arch = RTX4090() if torch.cuda.get_device_capability(0) == (8,9) else A100() if torch.cuda.get_device_capability(0) == (8,0) else None"
   ]
  },
  {
   "cell_type": "code",
   "execution_count": 16,
   "metadata": {},
   "outputs": [],
   "source": [
    "import pandas as pd\n",
    "data = {\n",
    "    \"fuse_type\": [config.fuse_type for config in configs],\n",
    "    \"tile1\": [(config.Br, config.Bc, config.BlockKSmem) for config in configs],\n",
    "    \"tile2\": [(config.Br, config.D, config.BlockKSmem2) for config in configs],\n",
    "    \"warps\": [config.Nthreads//32 for config in configs],\n",
    "    \"warps_layout1\": [(config.Nthreads//32//config.warps_mma1_n,config.warps_mma1_n) for config in configs],\n",
    "    \"warps_layout2\": [(config.Nthreads//32//config.warps_mma_n,config.warps_mma_n) for config in configs],\n",
    "    \"unrollLastIter\": [config.unrollLastIter for config in configs],\n",
    "    \"ncu_cycles\": cycles_list,\n",
    "    \"peak_time\": [cycles/arch.max_freq*1000 for cycles in cycles_list],\n",
    "}\n",
    "df = pd.DataFrame(data)\n",
    "df.to_csv(filename+\".csv\")"
   ]
  },
  {
   "cell_type": "code",
   "execution_count": 17,
   "metadata": {},
   "outputs": [],
   "source": [
    "from cost_model.example_op.flash_attention_reg import calculate_flash_attention_reg_resource_utilization\n",
    "from cost_model.example_op.flash_attention_shared import calculate_flash_attention_shared_resource_utilization\n",
    "\n",
    "\n",
    "cost_model_list = []\n",
    "for i,cost_config in enumerate(cost_configs):\n",
    "    if configs[i].fuse_type == \"register\":\n",
    "        cost_model_list.append(calculate_flash_attention_reg_resource_utilization(*cost_config, arch=arch))\n",
    "    elif configs[i].fuse_type == \"shared\":\n",
    "        cost_model_list.append(calculate_flash_attention_shared_resource_utilization(*cost_config, arch=arch))"
   ]
  },
  {
   "cell_type": "code",
   "execution_count": null,
   "metadata": {},
   "outputs": [],
   "source": []
  },
  {
   "cell_type": "code",
   "execution_count": 18,
   "metadata": {},
   "outputs": [],
   "source": [
    "data[\"predict time(ms)\"] = [pred*1000 for pred in  cost_model_list]\n",
    "data[\"pred/peak\"] = [pred/peak for pred,peak in zip(data[\"predict time(ms)\"],data[\"peak_time\"])]\n",
    "df = pd.DataFrame(data)\n",
    "df.to_csv(filename+\"_pred.csv\")"
   ]
  },
  {
   "cell_type": "code",
   "execution_count": null,
   "metadata": {},
   "outputs": [],
   "source": []
  }
 ],
 "metadata": {
  "kernelspec": {
   "display_name": "mamba",
   "language": "python",
   "name": "python3"
  },
  "language_info": {
   "codemirror_mode": {
    "name": "ipython",
    "version": 3
   },
   "file_extension": ".py",
   "mimetype": "text/x-python",
   "name": "python",
   "nbconvert_exporter": "python",
   "pygments_lexer": "ipython3",
   "version": "3.11.7"
  }
 },
 "nbformat": 4,
 "nbformat_minor": 2
}
